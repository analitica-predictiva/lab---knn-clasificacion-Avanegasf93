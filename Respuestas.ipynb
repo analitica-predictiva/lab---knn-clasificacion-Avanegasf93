{
 "cells": [
  {
   "cell_type": "code",
   "execution_count": 1,
   "metadata": {},
   "outputs": [],
   "source": [
    "\"\"\"\n",
    "Clasificación usando k-NN\n",
    "-----------------------------------------------------------------------------------------\n",
    "\n",
    "\n",
    "\"\"\"\n",
    "import pandas as pd"
   ]
  },
  {
   "cell_type": "code",
   "execution_count": 4,
   "metadata": {},
   "outputs": [],
   "source": [
    "def pregunta_01():\n",
    "    \"\"\"\n",
    "    Complete el código presentado a continuación.\n",
    "\n",
    "    \"\"\"\n",
    "    # Lea el archivo de datos\n",
    "    df = pd.read_csv(\"house-votes-84.csv\", sep=\",\")\n",
    "\n",
    "    # Cree un vector con la variable de respuesta ('party')\n",
    "    y = df[\"party\"].array\n",
    "\n",
    "    # Extraiga las variables de entrada\n",
    "    X = df.drop(columns=[\"party\"], axis=1).values\n",
    "\n",
    "    # Importe el transformador OrdinalEncoder\n",
    "    from sklearn.preprocessing import OrdinalEncoder\n",
    "\n",
    "    # Transforme las variables de entrada usando fit_transform\n",
    "    X = OrdinalEncoder().fit_transform(X)\n",
    "\n",
    "    # Importe KNeighborsClassifier de sklearn.neighbors\n",
    "    from sklearn.neighbors import KNeighborsClassifier\n",
    "    \n",
    "\n",
    "    # Cree un un clasificador k-NN con 6 vecinos\n",
    "    knn = KNeighborsClassifier(n_neighbors=6)\n",
    "\n",
    "    # Entrene el clasificador con el conjunto de entrenamiento\n",
    "    knn.fit(X, y)\n",
    "\n",
    "    # Retorne el score del clasificador\n",
    "    return knn.score(X, y)\n",
    "    "
   ]
  },
  {
   "cell_type": "code",
   "execution_count": 6,
   "metadata": {},
   "outputs": [],
   "source": [
    "def pregunta_02():\n",
    "    \"\"\"\n",
    "    Complete el código presentado a continuación.\n",
    "\n",
    "    \"\"\"\n",
    "    # Lea el archivo de datos\n",
    "    df = pd.read_csv(\"house-votes-84.csv\", sep=\",\")\n",
    "\n",
    "    # Cree un vector con la variable de respuesta ('party')\n",
    "    y = df[\"party\"].array\n",
    "\n",
    "    # Extraiga las variables de entrada\n",
    "    X = df.drop(columns=[\"party\"], axis=1).values\n",
    "\n",
    "    # Importe el transformador OrdinalEncoder\n",
    "    from sklearn.preprocessing import OrdinalEncoder\n",
    "\n",
    "    # Transforme las variables de entrada usando fit_transform\n",
    "    X = OrdinalEncoder().fit_transform(X)\n",
    "\n",
    "    # Importe KNeighborsClassifier de sklearn.neighbors\n",
    "    from sklearn.neighbors import KNeighborsClassifier\n",
    "    \n",
    "\n",
    "    # Cree un un clasificador k-NN con 6 vecinos\n",
    "    knn = KNeighborsClassifier(n_neighbors=6)\n",
    "\n",
    "    # Entrene el clasificador con el conjunto de entrenamiento\n",
    "    knn.fit(X, y)\n",
    "\n",
    "    # Pronostique el resultado para el conjunto de entrenamiento\n",
    "    y_pred = knn.predict(X)\n",
    "\n",
    "    # Importe la función confusion_matrix de sklearn.metrics\n",
    "    from sklearn.metrics import confusion_matrix\n",
    "\n",
    "    # Retorne la matriz de confusión\n",
    "    return confusion_matrix(y, y_pred)\n",
    "\n"
   ]
  }
 ],
 "metadata": {
  "kernelspec": {
   "display_name": "Python 3.11.0 64-bit",
   "language": "python",
   "name": "python3"
  },
  "language_info": {
   "codemirror_mode": {
    "name": "ipython",
    "version": 3
   },
   "file_extension": ".py",
   "mimetype": "text/x-python",
   "name": "python",
   "nbconvert_exporter": "python",
   "pygments_lexer": "ipython3",
   "version": "3.11.0"
  },
  "orig_nbformat": 4,
  "vscode": {
   "interpreter": {
    "hash": "a50104b0332e12837e12e442860665aba4962bda19f2ef115e6758855a0d3565"
   }
  }
 },
 "nbformat": 4,
 "nbformat_minor": 2
}
